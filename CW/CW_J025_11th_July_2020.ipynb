{
  "nbformat": 4,
  "nbformat_minor": 0,
  "metadata": {
    "colab": {
      "name": "CW_J025_11th July 2020.ipynb",
      "provenance": [],
      "authorship_tag": "ABX9TyNJlqGLiBKUm9u7iCvWu+yq",
      "include_colab_link": true
    },
    "kernelspec": {
      "name": "python3",
      "display_name": "Python 3"
    }
  },
  "cells": [
    {
      "cell_type": "markdown",
      "metadata": {
        "id": "view-in-github",
        "colab_type": "text"
      },
      "source": [
        "<a href=\"https://colab.research.google.com/github/kartikayladdha/AI/blob/master/CW/CW_J025_11th_July_2020.ipynb\" target=\"_parent\"><img src=\"https://colab.research.google.com/assets/colab-badge.svg\" alt=\"Open In Colab\"/></a>"
      ]
    },
    {
      "cell_type": "markdown",
      "metadata": {
        "id": "anchlwPTLTbi",
        "colab_type": "text"
      },
      "source": [
        "**Introductiion to Python Programming (Artificial Intelligence)**"
      ]
    },
    {
      "cell_type": "code",
      "metadata": {
        "id": "4eo1hHx3HKZo",
        "colab_type": "code",
        "colab": {}
      },
      "source": [
        "#list\n",
        "a = [1,2,3,4,5,'human'] #they are mutable\n",
        "b = [[1,2,3,4,'human'], [1,2,3,4,5],[3,4,5,'human']]\n",
        "\n",
        "#tuple\n",
        "a = (1,2,3,4,5,'human') #aren't mutable\n",
        "\n",
        "#set\n",
        "a = {1,2,3,4,5,'human'}\n",
        "\n",
        "#dictionaries \n",
        "a = {'list':[1,2,3,4,5,'human'], 'tuple':(1,2,3,4,5,'human'), 'set':{1,2,3,4,5,'human'}}"
      ],
      "execution_count": 2,
      "outputs": []
    },
    {
      "cell_type": "markdown",
      "metadata": {
        "id": "C_iBWjgZQB2C",
        "colab_type": "text"
      },
      "source": [
        "What all is possible for a SET!"
      ]
    },
    {
      "cell_type": "code",
      "metadata": {
        "id": "cZatXxd1OLY6",
        "colab_type": "code",
        "colab": {}
      },
      "source": [
        "#set\n",
        "a = {1,2,3,4,5,'human'} #therte is no index in a set, hence no order\n",
        "#it arranges the entire numbers accendingly when run"
      ],
      "execution_count": 3,
      "outputs": []
    },
    {
      "cell_type": "code",
      "metadata": {
        "id": "-yglHj__ONtp",
        "colab_type": "code",
        "colab": {
          "base_uri": "https://localhost:8080/",
          "height": 34
        },
        "outputId": "f637495e-61fb-4366-95a1-c5b152540a17"
      },
      "source": [
        "type(a)"
      ],
      "execution_count": 4,
      "outputs": [
        {
          "output_type": "execute_result",
          "data": {
            "text/plain": [
              "set"
            ]
          },
          "metadata": {
            "tags": []
          },
          "execution_count": 4
        }
      ]
    },
    {
      "cell_type": "code",
      "metadata": {
        "id": "R4F-jcN7LuUQ",
        "colab_type": "code",
        "colab": {
          "base_uri": "https://localhost:8080/",
          "height": 34
        },
        "outputId": "dd27314e-6c9f-4351-c9fe-0cb0c825970a"
      },
      "source": [
        "type(a)\n",
        "type(b)"
      ],
      "execution_count": 5,
      "outputs": [
        {
          "output_type": "execute_result",
          "data": {
            "text/plain": [
              "list"
            ]
          },
          "metadata": {
            "tags": []
          },
          "execution_count": 5
        }
      ]
    },
    {
      "cell_type": "code",
      "metadata": {
        "id": "orhx31-SLfUk",
        "colab_type": "code",
        "colab": {}
      },
      "source": [
        "b = {[1,2,3,4,5,'human'], ['a']} #not possible in a set"
      ],
      "execution_count": null,
      "outputs": []
    },
    {
      "cell_type": "code",
      "metadata": {
        "id": "kE0WQ3uUOePM",
        "colab_type": "code",
        "colab": {}
      },
      "source": [
        "b = {1,2,3,4,5,'human'} + {1,2,3,4,5,'human'} #not possible for a set"
      ],
      "execution_count": null,
      "outputs": []
    },
    {
      "cell_type": "code",
      "metadata": {
        "id": "w_SKJ2tcSMvT",
        "colab_type": "code",
        "colab": {
          "base_uri": "https://localhost:8080/",
          "height": 34
        },
        "outputId": "29715370-ab04-42cd-8463-b9afedd33cf1"
      },
      "source": [
        "b = {1,2,2,4,5,6} #set prints only distinct values \n",
        "b.pop() #the pop function will pop out an arbitary value from the set and removes it "
      ],
      "execution_count": 8,
      "outputs": [
        {
          "output_type": "execute_result",
          "data": {
            "text/plain": [
              "1"
            ]
          },
          "metadata": {
            "tags": []
          },
          "execution_count": 8
        }
      ]
    },
    {
      "cell_type": "code",
      "metadata": {
        "id": "ZEMNSpu2TWoe",
        "colab_type": "code",
        "colab": {
          "base_uri": "https://localhost:8080/",
          "height": 34
        },
        "outputId": "b78d1748-f582-4ca3-a85f-4058b0f068f9"
      },
      "source": [
        "b.pop()"
      ],
      "execution_count": 9,
      "outputs": [
        {
          "output_type": "execute_result",
          "data": {
            "text/plain": [
              "2"
            ]
          },
          "metadata": {
            "tags": []
          },
          "execution_count": 9
        }
      ]
    },
    {
      "cell_type": "code",
      "metadata": {
        "id": "ONqWJnhzWY9K",
        "colab_type": "code",
        "colab": {
          "base_uri": "https://localhost:8080/",
          "height": 34
        },
        "outputId": "4ab9d919-2bb5-43ad-ecd4-0d774031f898"
      },
      "source": [
        "print(b)"
      ],
      "execution_count": 10,
      "outputs": [
        {
          "output_type": "stream",
          "text": [
            "{4, 5, 6}\n"
          ],
          "name": "stdout"
        }
      ]
    },
    {
      "cell_type": "code",
      "metadata": {
        "id": "Ettbnb9bz2qz",
        "colab_type": "code",
        "colab": {}
      },
      "source": [
        "a = 5\n",
        "a = 'five'"
      ],
      "execution_count": 12,
      "outputs": []
    },
    {
      "cell_type": "code",
      "metadata": {
        "id": "mkiuh8t91B87",
        "colab_type": "code",
        "colab": {
          "base_uri": "https://localhost:8080/",
          "height": 34
        },
        "outputId": "3c921fd2-a473-42ae-dd1e-acebe08b037b"
      },
      "source": [
        "print (5)\n",
        "#print 5 - this is not possiible"
      ],
      "execution_count": 13,
      "outputs": [
        {
          "output_type": "stream",
          "text": [
            "5\n"
          ],
          "name": "stdout"
        }
      ]
    },
    {
      "cell_type": "code",
      "metadata": {
        "id": "K2mgCy7I1XQT",
        "colab_type": "code",
        "colab": {}
      },
      "source": [
        "  a=5\n",
        "b=6 \n",
        "#this should actually be an error, but here google handeled the indentation error"
      ],
      "execution_count": 20,
      "outputs": []
    },
    {
      "cell_type": "code",
      "metadata": {
        "id": "r5AXeviZ2J24",
        "colab_type": "code",
        "colab": {}
      },
      "source": [
        "if b>0:\n",
        "print('a')\n",
        "#here we can clearly see the indentation error"
      ],
      "execution_count": null,
      "outputs": []
    },
    {
      "cell_type": "code",
      "metadata": {
        "id": "EWQnMwjh3v3R",
        "colab_type": "code",
        "colab": {
          "base_uri": "https://localhost:8080/",
          "height": 34
        },
        "outputId": "a8f3d5b2-5b29-40a0-bf82-5fe47c89d53a"
      },
      "source": [
        "if b>0:\n",
        "  print('a') \n",
        "  #here due to proper indentation we can see that it prints correctly"
      ],
      "execution_count": 23,
      "outputs": [
        {
          "output_type": "stream",
          "text": [
            "a\n"
          ],
          "name": "stdout"
        }
      ]
    },
    {
      "cell_type": "code",
      "metadata": {
        "id": "DVn-EqpV2ekK",
        "colab_type": "code",
        "colab": {}
      },
      "source": [
        "#whenever we define function, it requires an input parameter(it can also be null)\n",
        "def printer(): #we declared printer function that it is printing the same value everytime\n",
        "  print(a+b)\n",
        "def sum(a,b):\n",
        "  return a+b"
      ],
      "execution_count": 26,
      "outputs": []
    },
    {
      "cell_type": "code",
      "metadata": {
        "id": "NgNGlUHj4-v_",
        "colab_type": "code",
        "colab": {
          "base_uri": "https://localhost:8080/",
          "height": 34
        },
        "outputId": "6d792489-f1c0-4dd4-a4f8-562eb80f569d"
      },
      "source": [
        "printer() #sir hasn't passed any elements yet, still its showing the result using the previously defined a and b"
      ],
      "execution_count": 27,
      "outputs": [
        {
          "output_type": "stream",
          "text": [
            "11\n"
          ],
          "name": "stdout"
        }
      ]
    },
    {
      "cell_type": "code",
      "metadata": {
        "id": "-QIsUz525tXr",
        "colab_type": "code",
        "colab": {}
      },
      "source": [
        "#now if we define c \n",
        "c=8"
      ],
      "execution_count": 28,
      "outputs": []
    },
    {
      "cell_type": "code",
      "metadata": {
        "id": "_Lsfdx_37eJH",
        "colab_type": "code",
        "colab": {
          "base_uri": "https://localhost:8080/",
          "height": 34
        },
        "outputId": "79d01605-0a36-4333-c315-267e3bb4a7bf"
      },
      "source": [
        "sum(a,c)"
      ],
      "execution_count": 31,
      "outputs": [
        {
          "output_type": "execute_result",
          "data": {
            "text/plain": [
              "13"
            ]
          },
          "metadata": {
            "tags": []
          },
          "execution_count": 31
        }
      ]
    },
    {
      "cell_type": "code",
      "metadata": {
        "id": "XdO7Jsnx74AG",
        "colab_type": "code",
        "colab": {}
      },
      "source": [
        "def printer():\n",
        "  a=5\n",
        "  b=6\n",
        "  print(a+b)\n",
        "  #here a and b are local variables insted of global variables"
      ],
      "execution_count": 32,
      "outputs": []
    },
    {
      "cell_type": "code",
      "metadata": {
        "id": "VzleF4Nf849X",
        "colab_type": "code",
        "colab": {}
      },
      "source": [
        "a=c"
      ],
      "execution_count": 33,
      "outputs": []
    },
    {
      "cell_type": "code",
      "metadata": {
        "id": "P4RlsBvK87wd",
        "colab_type": "code",
        "colab": {
          "base_uri": "https://localhost:8080/",
          "height": 34
        },
        "outputId": "39e354b6-7991-4a24-8482-427c737af0f5"
      },
      "source": [
        "a==c"
      ],
      "execution_count": 34,
      "outputs": [
        {
          "output_type": "execute_result",
          "data": {
            "text/plain": [
              "True"
            ]
          },
          "metadata": {
            "tags": []
          },
          "execution_count": 34
        }
      ]
    },
    {
      "cell_type": "code",
      "metadata": {
        "id": "Bc6AdDuk8-np",
        "colab_type": "code",
        "colab": {}
      },
      "source": [
        "#single = is used to assign where as double = is used to check and hence returns booleans"
      ],
      "execution_count": null,
      "outputs": []
    },
    {
      "cell_type": "markdown",
      "metadata": {
        "id": "dj_ZxItf-GbN",
        "colab_type": "text"
      },
      "source": [
        "Data Types"
      ]
    },
    {
      "cell_type": "code",
      "metadata": {
        "id": "dSmuY12-9in4",
        "colab_type": "code",
        "colab": {
          "base_uri": "https://localhost:8080/",
          "height": 34
        },
        "outputId": "ccd41517-adff-4dc8-a185-d919c5c2568e"
      },
      "source": [
        "int ('111',3) #this. converts the number into basse 10"
      ],
      "execution_count": 36,
      "outputs": [
        {
          "output_type": "execute_result",
          "data": {
            "text/plain": [
              "13"
            ]
          },
          "metadata": {
            "tags": []
          },
          "execution_count": 36
        }
      ]
    },
    {
      "cell_type": "code",
      "metadata": {
        "id": "rbrGbM_9_ZsO",
        "colab_type": "code",
        "colab": {
          "base_uri": "https://localhost:8080/",
          "height": 34
        },
        "outputId": "517389a1-90a8-4dfe-895c-8bd4e007dec0"
      },
      "source": [
        "float(int('111', 3)) #type casting "
      ],
      "execution_count": 37,
      "outputs": [
        {
          "output_type": "execute_result",
          "data": {
            "text/plain": [
              "13.0"
            ]
          },
          "metadata": {
            "tags": []
          },
          "execution_count": 37
        }
      ]
    },
    {
      "cell_type": "code",
      "metadata": {
        "id": "iGUt7HDnCNqW",
        "colab_type": "code",
        "colab": {}
      },
      "source": [
        "def sum():\n",
        "  a='data sciene is a \n",
        "  scam' \n",
        "  #see here its not continuing, abrupty ending a line, ending of line error"
      ],
      "execution_count": null,
      "outputs": []
    },
    {
      "cell_type": "code",
      "metadata": {
        "id": "5uTxA30PCfSh",
        "colab_type": "code",
        "colab": {}
      },
      "source": [
        "def sum():\n",
        "  a='data sciene is a \\n\n",
        "  scam' "
      ],
      "execution_count": null,
      "outputs": []
    },
    {
      "cell_type": "code",
      "metadata": {
        "id": "c6m31BCwDb5-",
        "colab_type": "code",
        "colab": {}
      },
      "source": [
        "help('traceback')"
      ],
      "execution_count": null,
      "outputs": []
    },
    {
      "cell_type": "code",
      "metadata": {
        "id": "vRzqTVW5HBYk",
        "colab_type": "code",
        "colab": {}
      },
      "source": [
        "a_=4 #for using reverse keywords\n",
        "__a__=\n",
        "a=6\n",
        "_a=9 #this style means, this variable is intebded for internal use\n",
        "__a=91 "
      ],
      "execution_count": null,
      "outputs": []
    },
    {
      "cell_type": "code",
      "metadata": {
        "id": "1hUhPEatHgdF",
        "colab_type": "code",
        "colab": {}
      },
      "source": [
        "#public variable vs private\n",
        "\n",
        "class human:\n",
        "    \"\"\" Members of a class \"\"\"\n",
        "    # attribute - variables - compulsory\n",
        "    # method/behaviour- function - compulsory"
      ],
      "execution_count": null,
      "outputs": []
    },
    {
      "cell_type": "code",
      "metadata": {
        "id": "iVq_1zXrKZT3",
        "colab_type": "code",
        "colab": {}
      },
      "source": [
        "class Student:\n",
        "    a =6\n",
        "    def __init__(self,name):\n",
        "        #Instatiates the object of a class ~ constructor\n",
        "        #print(name) \n",
        "        self.__name = name \n",
        "        #self.__a=6\n",
        "  \n",
        "    def displayName(self): \n",
        "        print(self.__name)\n",
        "        #print(self.__a) \n",
        "  \n",
        "#Class vs Object\n",
        "s1 = Student(\"Santhosh\") \n",
        "s1.displayName() \n",
        "  \n",
        "# Raises an error \n",
        "print(s1.__name) "
      ],
      "execution_count": null,
      "outputs": []
    },
    {
      "cell_type": "code",
      "metadata": {
        "id": "DpI_Unrk9fpG",
        "colab_type": "code",
        "colab": {}
      },
      "source": [
        "class student1(Student):\n",
        "    #     def __init__(self,name):\n",
        "    #     print(self.a)\n",
        "    #     print(self.__name)"
      ],
      "execution_count": null,
      "outputs": []
    },
    {
      "cell_type": "code",
      "metadata": {
        "id": "CJWdcNhA9iWG",
        "colab_type": "code",
        "colab": {}
      },
      "source": [
        "s2=student1('Santosh1')"
      ],
      "execution_count": null,
      "outputs": []
    },
    {
      "cell_type": "markdown",
      "metadata": {
        "id": "Ml-GM4oQ9lkU",
        "colab_type": "text"
      },
      "source": [
        "**Exploriing Pandas**"
      ]
    },
    {
      "cell_type": "code",
      "metadata": {
        "id": "NJhebmWh9ru4",
        "colab_type": "code",
        "colab": {}
      },
      "source": [
        "import pandas as pd"
      ],
      "execution_count": 1,
      "outputs": []
    },
    {
      "cell_type": "code",
      "metadata": {
        "id": "AhWN1TQt93My",
        "colab_type": "code",
        "colab": {}
      },
      "source": [
        "lis=['a','b','c']\n",
        "a=pd.DataFrame(columns=lis)"
      ],
      "execution_count": null,
      "outputs": []
    },
    {
      "cell_type": "code",
      "metadata": {
        "id": "4vlEVF3_96vJ",
        "colab_type": "code",
        "colab": {}
      },
      "source": [
        "a=pd.read_csv('https://people.sc.fsu.edu/~jburkardt/data/csv/addresses.csv')"
      ],
      "execution_count": null,
      "outputs": []
    },
    {
      "cell_type": "code",
      "metadata": {
        "id": "D9wF908Z99Zq",
        "colab_type": "code",
        "colab": {}
      },
      "source": [
        "b=pd.read"
      ],
      "execution_count": null,
      "outputs": []
    },
    {
      "cell_type": "code",
      "metadata": {
        "id": "yxsOyWX5-OhJ",
        "colab_type": "code",
        "colab": {}
      },
      "source": [
        "s1._Student__a"
      ],
      "execution_count": null,
      "outputs": []
    },
    {
      "cell_type": "code",
      "metadata": {
        "id": "iIuDzKHc-Q18",
        "colab_type": "code",
        "colab": {}
      },
      "source": [
        "dir(s1)"
      ],
      "execution_count": null,
      "outputs": []
    }
  ]
}