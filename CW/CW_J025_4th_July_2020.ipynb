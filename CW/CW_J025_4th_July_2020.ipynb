{
  "nbformat": 4,
  "nbformat_minor": 0,
  "metadata": {
    "colab": {
      "name": "CW_J025_4th July 2020.ipynb",
      "provenance": [],
      "authorship_tag": "ABX9TyPBTohxUdlxrIQRUxjP3ND/",
      "include_colab_link": true
    },
    "kernelspec": {
      "name": "python3",
      "display_name": "Python 3"
    }
  },
  "cells": [
    {
      "cell_type": "markdown",
      "metadata": {
        "id": "view-in-github",
        "colab_type": "text"
      },
      "source": [
        "<a href=\"https://colab.research.google.com/github/kartikayladdha/Artificial-Intelligence/blob/master/CW/CW_J025_4th_July_2020.ipynb\" target=\"_parent\"><img src=\"https://colab.research.google.com/assets/colab-badge.svg\" alt=\"Open In Colab\"/></a>"
      ]
    },
    {
      "cell_type": "markdown",
      "metadata": {
        "id": "anchlwPTLTbi",
        "colab_type": "text"
      },
      "source": [
        "**Introductiion to Python Programming (Artificial Intelligence)**"
      ]
    },
    {
      "cell_type": "code",
      "metadata": {
        "id": "4eo1hHx3HKZo",
        "colab_type": "code",
        "colab": {}
      },
      "source": [
        "#list\n",
        "a = [1,2,3,4,5,'human'] #they are mutable\n",
        "b = [[1,2,3,4,'human'], [1,2,3,4,5],[3,4,5,'human']]\n",
        "\n",
        "#tuple\n",
        "a = (1,2,3,4,5,'human') #aren't mutable\n",
        "\n",
        "#set\n",
        "a = {1,2,3,4,5,'human'}\n",
        "\n",
        "#dictionaries \n",
        "a = {'list':[1,2,3,4,5,'human'], 'tuple':(1,2,3,4,5,'human'), 'set':{1,2,3,4,5,'human'}}"
      ],
      "execution_count": null,
      "outputs": []
    },
    {
      "cell_type": "markdown",
      "metadata": {
        "id": "C_iBWjgZQB2C",
        "colab_type": "text"
      },
      "source": [
        "What all is possible for a SET!"
      ]
    },
    {
      "cell_type": "code",
      "metadata": {
        "id": "cZatXxd1OLY6",
        "colab_type": "code",
        "colab": {}
      },
      "source": [
        "#set\n",
        "a = {1,2,3,4,5,'human'} #therte is no index in a set, hence no order\n",
        "#it arranges the entire numbers accendingly when run"
      ],
      "execution_count": null,
      "outputs": []
    },
    {
      "cell_type": "code",
      "metadata": {
        "id": "-yglHj__ONtp",
        "colab_type": "code",
        "colab": {
          "base_uri": "https://localhost:8080/",
          "height": 34
        },
        "outputId": "b9a8c7bc-9b47-46d1-99bb-2e5cc2e0aaf6"
      },
      "source": [
        "type(a)"
      ],
      "execution_count": null,
      "outputs": [
        {
          "output_type": "execute_result",
          "data": {
            "text/plain": [
              "set"
            ]
          },
          "metadata": {
            "tags": []
          },
          "execution_count": 16
        }
      ]
    },
    {
      "cell_type": "code",
      "metadata": {
        "id": "R4F-jcN7LuUQ",
        "colab_type": "code",
        "colab": {}
      },
      "source": [
        "type(a)\n",
        "type(b)"
      ],
      "execution_count": null,
      "outputs": []
    },
    {
      "cell_type": "code",
      "metadata": {
        "id": "orhx31-SLfUk",
        "colab_type": "code",
        "colab": {}
      },
      "source": [
        "b = {[1,2,3,4,5,'human'], ['a']} #not possible in a set"
      ],
      "execution_count": null,
      "outputs": []
    },
    {
      "cell_type": "code",
      "metadata": {
        "id": "kE0WQ3uUOePM",
        "colab_type": "code",
        "colab": {}
      },
      "source": [
        "b = {1,2,3,4,5,'human'} + {1,2,3,4,5,'human'} #not possible for a set"
      ],
      "execution_count": null,
      "outputs": []
    },
    {
      "cell_type": "code",
      "metadata": {
        "id": "w_SKJ2tcSMvT",
        "colab_type": "code",
        "colab": {
          "base_uri": "https://localhost:8080/",
          "height": 34
        },
        "outputId": "9a6c0644-9972-4094-ff94-6cc7bacc68db"
      },
      "source": [
        "b = {1,2,2,4,5,6} #set prints only distinct values \n",
        "b.pop() #the pop function will pop out an arbitary value from the set and removes it "
      ],
      "execution_count": null,
      "outputs": [
        {
          "output_type": "execute_result",
          "data": {
            "text/plain": [
              "1"
            ]
          },
          "metadata": {
            "tags": []
          },
          "execution_count": 22
        }
      ]
    },
    {
      "cell_type": "code",
      "metadata": {
        "id": "ZEMNSpu2TWoe",
        "colab_type": "code",
        "colab": {
          "base_uri": "https://localhost:8080/",
          "height": 34
        },
        "outputId": "c060650c-0ab1-4b8e-824d-f313daeb2791"
      },
      "source": [
        "b.pop()"
      ],
      "execution_count": null,
      "outputs": [
        {
          "output_type": "execute_result",
          "data": {
            "text/plain": [
              "2"
            ]
          },
          "metadata": {
            "tags": []
          },
          "execution_count": 24
        }
      ]
    },
    {
      "cell_type": "code",
      "metadata": {
        "id": "ONqWJnhzWY9K",
        "colab_type": "code",
        "colab": {
          "base_uri": "https://localhost:8080/",
          "height": 34
        },
        "outputId": "889c8402-d497-4b2b-912d-f83fa4a807b6"
      },
      "source": [
        "print(b)"
      ],
      "execution_count": null,
      "outputs": [
        {
          "output_type": "stream",
          "text": [
            "{4, 5, 6}\n"
          ],
          "name": "stdout"
        }
      ]
    }
  ]
}