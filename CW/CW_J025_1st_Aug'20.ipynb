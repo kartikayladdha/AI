{
  "nbformat": 4,
  "nbformat_minor": 0,
  "metadata": {
    "colab": {
      "name": "CW_J025_1st Aug'20.ipynb",
      "provenance": [],
      "authorship_tag": "ABX9TyOYOjagokDwu7u1pXLgAIf7",
      "include_colab_link": true
    },
    "kernelspec": {
      "name": "python3",
      "display_name": "Python 3"
    }
  },
  "cells": [
    {
      "cell_type": "markdown",
      "metadata": {
        "id": "view-in-github",
        "colab_type": "text"
      },
      "source": [
        "<a href=\"https://colab.research.google.com/github/kartikayladdha/AI/blob/master/CW/CW_J025_1st_Aug'20.ipynb\" target=\"_parent\"><img src=\"https://colab.research.google.com/assets/colab-badge.svg\" alt=\"Open In Colab\"/></a>"
      ]
    },
    {
      "cell_type": "markdown",
      "metadata": {
        "id": "0j9EGexl_t4q",
        "colab_type": "text"
      },
      "source": [
        "#RECURSIVE nature is when a function calls itself.\n",
        "\n",
        "1 + 2 + 3 + 4 \\n\n",
        "1 + 2 = 3 #sum(1,2) \\n\n",
        "3 + 3 = 6 #sum(sum(1,2),3) \\n\n",
        "6 + 4 = 10 #sum(sum(sum(1,2),3),4) \\n\n",
        "\n",
        "We are taking the entire problem and breaking it into parts \n",
        "this is recursive coz we are doing the same task again and again\n",
        "\n",
        "# MEMOISATION ~ Memorandum(Latin) - To be remebered\n",
        "\n",
        "Strorig intermediate values, through various ways\n",
        "Here we are calculating step my step, and then storing it and using it in each step "
      ]
    },
    {
      "cell_type": "code",
      "metadata": {
        "id": "_7JzwwOSFVAl",
        "colab_type": "code",
        "colab": {}
      },
      "source": [
        "#Calculating FACTORIAL\n",
        "\n",
        "def factorial_recurssion(n):\n",
        "  factor = 1\n",
        "  if (n==0):\n",
        "    return factor\n",
        "  else:\n",
        "    return n * factorial_recurssion(n-1)\n",
        "\n",
        "def factorial_simple (n):\n",
        "  factor = 1\n",
        "  for i in range(1,n+1):\n",
        "    factor = factor * i\n",
        "  return factor\n",
        "\n",
        "#we can delete a function from the environment through the del() function"
      ],
      "execution_count": 7,
      "outputs": []
    },
    {
      "cell_type": "code",
      "metadata": {
        "id": "oTJ0FP9pICn3",
        "colab_type": "code",
        "colab": {
          "base_uri": "https://localhost:8080/",
          "height": 34
        },
        "outputId": "fa3e5e0e-0761-4e47-f34b-8db039db72c3"
      },
      "source": [
        "factorial_recurssion(7)"
      ],
      "execution_count": 8,
      "outputs": [
        {
          "output_type": "execute_result",
          "data": {
            "text/plain": [
              "5040"
            ]
          },
          "metadata": {
            "tags": []
          },
          "execution_count": 8
        }
      ]
    },
    {
      "cell_type": "code",
      "metadata": {
        "id": "KlHdlV88INIZ",
        "colab_type": "code",
        "colab": {
          "base_uri": "https://localhost:8080/",
          "height": 34
        },
        "outputId": "cc5452e0-70ff-4dab-ec4a-814dfc37acb9"
      },
      "source": [
        "factorial_simple(7)"
      ],
      "execution_count": 9,
      "outputs": [
        {
          "output_type": "execute_result",
          "data": {
            "text/plain": [
              "5040"
            ]
          },
          "metadata": {
            "tags": []
          },
          "execution_count": 9
        }
      ]
    },
    {
      "cell_type": "code",
      "metadata": {
        "id": "-i7KgJjLIdqe",
        "colab_type": "code",
        "colab": {}
      },
      "source": [
        "#FIBONACCI\n",
        "\n",
        "0 1 1 2 3 5 8\n",
        "\n",
        "#Base case - sum(0,1)\n",
        "#Nth number is the sum of previous two numbers num(n) = sum(num(n-1), num(n-2))\n",
        "\n",
        "def fibo(n):\n",
        "  #function to calculate nth fibonacci number\n",
        "  fibo = []\n",
        "  #count = 0\n",
        "  fibo[0], fibo[1] = 0, 1\n",
        "  for i in range (2,n+1):\n",
        "    fibo[i] = fibo[i-1] + fibo[i-2]\n",
        "  return fibo[n]\n",
        "\n",
        "  #if n == 1:\n",
        "   # print(0)\n",
        "  #elif n == 2:\n",
        "   # print(1)\n",
        "  #else:\n",
        "   # for num in range(2, n):\n",
        "    #  fibo[]\n"
      ],
      "execution_count": null,
      "outputs": []
    },
    {
      "cell_type": "code",
      "metadata": {
        "id": "_cNhvB2fRozT",
        "colab_type": "code",
        "colab": {}
      },
      "source": [
        "def fibo_1(n):\n",
        "  # n : whole number\n",
        "  # returns the (n+1)th number\n",
        "  if n==0 or n==1:\n",
        "    return n\n",
        "  else:\n",
        "    return fibo_1(n-1) + fibo_1(n-2)"
      ],
      "execution_count": 10,
      "outputs": []
    },
    {
      "cell_type": "code",
      "metadata": {
        "id": "ujvuTLNvR7UI",
        "colab_type": "code",
        "colab": {}
      },
      "source": [
        "fibo_1(6)"
      ],
      "execution_count": null,
      "outputs": []
    },
    {
      "cell_type": "markdown",
      "metadata": {
        "id": "UBdtLV3FYmEJ",
        "colab_type": "text"
      },
      "source": [
        "Tractable - PTIME (Polynomial Time Solvable)\n",
        "\n",
        "Polynomial - Expression where each tern is n^k where k can be any whole number\n",
        "Degree of the polynomial - Highest power of the variable within the expression\n",
        "\n",
        "Polynomial Time - Runtime of the code or solution should be a polynomial of degree k where k is a constant, and since it is time, n cannot be negetive\n",
        "n : input space or dimension\n",
        "eg: O(n^4) - 3*n^4+2*n^2+1 here the order is 4(highest power)\n",
        "n=1 => 1\n",
        "n=2 => 2^4\n",
        "n=3 => 3^4\n",
        "n=4 => 4^4\n",
        "\n",
        "O(n!)\n",
        "n*(n-1)*(n-2)*n -> This is NOT a polynomial -> Non-Polynomial Time (NP)"
      ]
    },
    {
      "cell_type": "code",
      "metadata": {
        "id": "0o6tTvMjTKuR",
        "colab_type": "code",
        "colab": {}
      },
      "source": [
        "#BINARY SEARCH\n",
        "\n",
        "list = [5, 3, 2, 1, 5, 6, 7, 123, 97, 65, 34, 22, 344, 2245, 122, 45]"
      ],
      "execution_count": 13,
      "outputs": []
    },
    {
      "cell_type": "code",
      "metadata": {
        "id": "uJkAQlHtWBL3",
        "colab_type": "code",
        "colab": {}
      },
      "source": [
        "list.sort()"
      ],
      "execution_count": 14,
      "outputs": []
    },
    {
      "cell_type": "code",
      "metadata": {
        "id": "Lnw82HgpWTbH",
        "colab_type": "code",
        "colab": {
          "base_uri": "https://localhost:8080/",
          "height": 34
        },
        "outputId": "e50a34dc-6076-4785-cfe9-85345e12fb47"
      },
      "source": [
        "print (list)"
      ],
      "execution_count": 16,
      "outputs": [
        {
          "output_type": "stream",
          "text": [
            "[1, 2, 3, 5, 5, 6, 7, 22, 34, 45, 65, 97, 122, 123, 344, 2245]\n"
          ],
          "name": "stdout"
        }
      ]
    },
    {
      "cell_type": "code",
      "metadata": {
        "id": "knJrRl01WmlE",
        "colab_type": "code",
        "colab": {}
      },
      "source": [
        "list1 = list.copy().sort()"
      ],
      "execution_count": 17,
      "outputs": []
    }
  ]
}