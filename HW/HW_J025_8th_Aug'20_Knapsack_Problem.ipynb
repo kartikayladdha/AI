{
  "nbformat": 4,
  "nbformat_minor": 0,
  "metadata": {
    "colab": {
      "name": "HW_J025_8th Aug'20 Knapsack Problem.ipynb",
      "provenance": [],
      "authorship_tag": "ABX9TyNKrltfabu6+63od8cvKSE7",
      "include_colab_link": true
    },
    "kernelspec": {
      "name": "python3",
      "display_name": "Python 3"
    }
  },
  "cells": [
    {
      "cell_type": "markdown",
      "metadata": {
        "id": "view-in-github",
        "colab_type": "text"
      },
      "source": [
        "<a href=\"https://colab.research.google.com/github/kartikayladdha/AI/blob/master/HW/HW_J025_8th_Aug'20_Knapsack_Problem.ipynb\" target=\"_parent\"><img src=\"https://colab.research.google.com/assets/colab-badge.svg\" alt=\"Open In Colab\"/></a>"
      ]
    },
    {
      "cell_type": "markdown",
      "metadata": {
        "id": "z8JC5xwPXSHY",
        "colab_type": "text"
      },
      "source": [
        "# Knapsack Problem"
      ]
    },
    {
      "cell_type": "markdown",
      "metadata": {
        "id": "C9_oqz2lSzZy",
        "colab_type": "text"
      },
      "source": [
        "\n",
        "**GENERIC ALGORITHM**\n",
        "\n",
        "1. The user is prompted to enter the number of items n.\n",
        "\n",
        "2. The user is then asked to enter n values and n weights.\n",
        "\n",
        "3. A None value is added at the beginning of the lists so that value[i] and weight[i] correspond to the ith item where the items are numbered 1, 2, …, n.\n",
        "\n",
        "4. The function knapsack is called to get the maxmimum value.\n",
        "\n",
        "5. The result is then displayed.\n",
        "\n"
      ]
    },
    {
      "cell_type": "code",
      "metadata": {
        "id": "9XWSchLnH-O2",
        "colab_type": "code",
        "colab": {}
      },
      "source": [
        "#the function knapsack is defined.\n",
        "#it takes three arguments: two lists value and weight; and a number capacity.\n",
        "#knapsack function returns the maximum value of items that doesn’t exceed capacity in weight.\n",
        "\n",
        "def knapsack(value, weight, capacity):\n",
        "    \n",
        "    #value[i] is the value of item i and weight[i] is the weight of item i; for 1 <= i <= n where n is the number of items.\n",
        " \n",
        "    n = len(value) - 1\n",
        " \n",
        "    #The function creates a table m where m[i][w] will store the maximum value that can be attained with a maximum capacity of w and using only the first i items.\n",
        "    \n",
        "    m = [[-1]*(capacity + 1) for _ in range(n + 1)]\n",
        "\n",
        "    #It calls knapsack_helper on m with i=n and w=capacity and returns its return value.\n",
        "    \n",
        "    return knapsack_helper(value, weight, m, n, capacity)"
      ],
      "execution_count": 1,
      "outputs": []
    },
    {
      "cell_type": "code",
      "metadata": {
        "id": "ZNRz8MBNINyr",
        "colab_type": "code",
        "colab": {}
      },
      "source": [
        "#The function knapsack_helper takes 5 arguments: two lists value and weight; two numbers i and w; and a table m.\n",
        "\n",
        "def knapsack_helper(value, weight, m, i, w):\n",
        "    \n",
        "    #It returns the maximum value that can be attained using only the first i items while keeping their total weight not more than w.\n",
        " \n",
        "    #m[i][w] will store the maximum value that can be attained with a maximumcapacity of w and using only the first i items\n",
        "    #This function fills m as smaller subproblems needed to compute m[i][w] are solved.\n",
        " \n",
        "    #value[i] is the value of item i and weight[i] is the weight of item i; for 1 <= i <= n where n is the number of items.\n",
        "    \n",
        "    if m[i][w] >= 0: #If m[i][w] was already computed before, this value is immediately returned.\n",
        "        return m[i][w]\n",
        " \n",
        "    if i == 0: #If i = 0, then 0 is returned.\n",
        "        q = 0\n",
        "    elif weight[i] <= w: #Otherwise, m[i][w] = (m[i – 1][w – weight[i]] + value[i]) or m[i][w] = m[i – 1][w], whichever is larger.\n",
        "        q = max(knapsack_helper(value, weight,\n",
        "                                m, i - 1 , w - weight[i])\n",
        "                + value[i],\n",
        "                knapsack_helper(value, weight,\n",
        "                                m, i - 1 , w))\n",
        "    else: #if weight[i] > w, then m[i][w] is set to m[i – 1][w].\n",
        "        q = knapsack_helper(value, weight,\n",
        "                            m, i - 1 , w)\n",
        "    m[i][w] = q\n",
        "    return q\n",
        "\n",
        "    #The above computations are done by recursively calling knapsack_helper."
      ],
      "execution_count": 2,
      "outputs": []
    },
    {
      "cell_type": "code",
      "metadata": {
        "id": "XquZPk_SIRlW",
        "colab_type": "code",
        "colab": {
          "base_uri": "https://localhost:8080/",
          "height": 102
        },
        "outputId": "40b3a520-5c9b-45a9-841a-9209ef52f459"
      },
      "source": [
        "#to take the user defined inputs, we arewriting the below code so that we can ask the user!\n",
        "\n",
        "n = int(input('Enter number of items: '))\n",
        "value = input('Enter the values of the {} item(s) in order: '\n",
        "              .format(n)).split()\n",
        "value = [int(v) for v in value]\n",
        "value.insert(0, None) # so that the value of the ith item is at value[i]\n",
        "weight = input('Enter the positive weights of the {} item(s) in order: '\n",
        "               .format(n)).split()\n",
        "weight = [int(w) for w in weight]\n",
        "weight.insert(0, None) # so that the weight of the ith item is at weight[i]\n",
        "capacity = int(input('Enter maximum weight: '))\n",
        " \n",
        "ans = knapsack(value, weight, capacity)\n",
        "print('The maximum value of items that can be carried:', ans)\n"
      ],
      "execution_count": 3,
      "outputs": [
        {
          "output_type": "stream",
          "text": [
            "Enter number of items: 3\n",
            "Enter the values of the 3 item(s) in order: 60 100 120\n",
            "Enter the positive weights of the 3 item(s) in order: 10 20 30\n",
            "Enter maximum weight: 50\n",
            "The maximum value of items that can be carried: 220\n"
          ],
          "name": "stdout"
        }
      ]
    },
    {
      "cell_type": "markdown",
      "metadata": {
        "id": "yWA8W9lbWNra",
        "colab_type": "text"
      },
      "source": [
        "**A BRIEF SUMMARY OF THE CODE:**\n",
        "\n",
        "1. The function knapsack is defined.\n",
        "\n",
        "2. It takes three arguments: two lists value and weight; and a number capacity.\n",
        "\n",
        "3. It returns the maximum value of items that doesn’t exceed capacity in weight.\n",
        "\n",
        "4. The function creates a table m where m[i][w] will store the maximum value that can be attained with a maximum capacity of w and using only the first i items.\n",
        "\n",
        "5. It calls knapsack_helper on m with i=n and w=capacity and returns its return value.\n",
        "\n",
        "6. The function knapsack_helper takes 5 arguments: two lists value and weight; two numbers i and w; and a table m.\n",
        "\n",
        "7. It returns the maximum value that can be attained using only the first i items while keeping their total weight not more than w.\n",
        "\n",
        "8. If m[i][w] was already computed before, this value is immediately returned.\n",
        "\n",
        "9. If i = 0, then 0 is returned.\n",
        "\n",
        "10. If weight[i] > w, then m[i][w] is set to m[i – 1][w].\n",
        "\n",
        "11. Otherwise, m[i][w] = (m[i – 1][w – weight[i]] + value[i]) or m[i][w] = m[i – 1][w], whichever is larger.\n",
        "\n",
        "12. The above computations are done by recursively calling knapsack_helper.\n",
        "\n"
      ]
    }
  ]
}