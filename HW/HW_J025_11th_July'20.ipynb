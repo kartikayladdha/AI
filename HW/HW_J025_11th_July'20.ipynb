{
  "nbformat": 4,
  "nbformat_minor": 0,
  "metadata": {
    "colab": {
      "name": "HW_J025_11th July'20.ipynb",
      "provenance": [],
      "authorship_tag": "ABX9TyNgZ/tBQ9jeN/F7dZZNp7eq",
      "include_colab_link": true
    },
    "kernelspec": {
      "name": "python3",
      "display_name": "Python 3"
    }
  },
  "cells": [
    {
      "cell_type": "markdown",
      "metadata": {
        "id": "view-in-github",
        "colab_type": "text"
      },
      "source": [
        "<a href=\"https://colab.research.google.com/github/kartikayladdha/AI/blob/master/HW/HW_J025_11th_July'20.ipynb\" target=\"_parent\"><img src=\"https://colab.research.google.com/assets/colab-badge.svg\" alt=\"Open In Colab\"/></a>"
      ]
    },
    {
      "cell_type": "code",
      "metadata": {
        "id": "xYSiItaJ_A63",
        "colab_type": "code",
        "colab": {
          "base_uri": "https://localhost:8080/",
          "height": 71
        },
        "outputId": "d477ba04-98f3-4419-ba3e-15dcc523aca7"
      },
      "source": [
        "import numpy as np\n",
        "import pandas as pd\n",
        "import seaborn as sns\n",
        "import matplotlib.pyplot as plt"
      ],
      "execution_count": 1,
      "outputs": [
        {
          "output_type": "stream",
          "text": [
            "/usr/local/lib/python3.6/dist-packages/statsmodels/tools/_testing.py:19: FutureWarning: pandas.util.testing is deprecated. Use the functions in the public API at pandas.testing instead.\n",
            "  import pandas.util.testing as tm\n"
          ],
          "name": "stderr"
        }
      ]
    },
    {
      "cell_type": "markdown",
      "metadata": {
        "id": "lZp-ZNCU_nE9",
        "colab_type": "text"
      },
      "source": [
        "Q1: Create a custom class DataRead to read csv file using pandas"
      ]
    },
    {
      "cell_type": "code",
      "metadata": {
        "id": "fu8yExmB_2w7",
        "colab_type": "code",
        "colab": {}
      },
      "source": [
        "class DataRead():\n",
        "  def __init__(self,read_file):\n",
        "    self.df1=pd.read_csv(read_file)\n",
        "\n",
        "  def RowSelect(self,a,b):\n",
        "    print(self.df1.iloc[[a,b]])\n",
        "  "
      ],
      "execution_count": 4,
      "outputs": []
    },
    {
      "cell_type": "markdown",
      "metadata": {
        "id": "2V_NboyeKaSm",
        "colab_type": "text"
      },
      "source": [
        "Q2: Create a custom function RowSelect within the class to select any 2 rows of the the the dataframe"
      ]
    },
    {
      "cell_type": "code",
      "metadata": {
        "id": "WYW2cHQNDmA4",
        "colab_type": "code",
        "colab": {
          "base_uri": "https://localhost:8080/",
          "height": 204
        },
        "outputId": "a71d5741-f3c8-43a0-a48d-ca7703f8574f"
      },
      "source": [
        "df = \"https://people.sc.fsu.edu/~jburkardt/data/csv/oscar_age_male.csv\"\n",
        "x = DataRead(df)\n",
        "x.df1.head()"
      ],
      "execution_count": 5,
      "outputs": [
        {
          "output_type": "execute_result",
          "data": {
            "text/html": [
              "<div>\n",
              "<style scoped>\n",
              "    .dataframe tbody tr th:only-of-type {\n",
              "        vertical-align: middle;\n",
              "    }\n",
              "\n",
              "    .dataframe tbody tr th {\n",
              "        vertical-align: top;\n",
              "    }\n",
              "\n",
              "    .dataframe thead th {\n",
              "        text-align: right;\n",
              "    }\n",
              "</style>\n",
              "<table border=\"1\" class=\"dataframe\">\n",
              "  <thead>\n",
              "    <tr style=\"text-align: right;\">\n",
              "      <th></th>\n",
              "      <th>Index</th>\n",
              "      <th>\"Year\"</th>\n",
              "      <th>\"Age\"</th>\n",
              "      <th>\"Name\"</th>\n",
              "      <th>\"Movie\"</th>\n",
              "    </tr>\n",
              "  </thead>\n",
              "  <tbody>\n",
              "    <tr>\n",
              "      <th>1</th>\n",
              "      <td>1928</td>\n",
              "      <td>44</td>\n",
              "      <td>\"Emil Jannings\"</td>\n",
              "      <td>\"The Last Command</td>\n",
              "      <td>The Way of All Flesh\"</td>\n",
              "    </tr>\n",
              "    <tr>\n",
              "      <th>2</th>\n",
              "      <td>1929</td>\n",
              "      <td>41</td>\n",
              "      <td>\"Warner Baxter\"</td>\n",
              "      <td>\"In Old Arizona\"</td>\n",
              "      <td>NaN</td>\n",
              "    </tr>\n",
              "    <tr>\n",
              "      <th>3</th>\n",
              "      <td>1930</td>\n",
              "      <td>62</td>\n",
              "      <td>\"George Arliss\"</td>\n",
              "      <td>\"Disraeli\"</td>\n",
              "      <td>NaN</td>\n",
              "    </tr>\n",
              "    <tr>\n",
              "      <th>4</th>\n",
              "      <td>1931</td>\n",
              "      <td>53</td>\n",
              "      <td>\"Lionel Barrymore\"</td>\n",
              "      <td>\"A Free Soul\"</td>\n",
              "      <td>NaN</td>\n",
              "    </tr>\n",
              "    <tr>\n",
              "      <th>5</th>\n",
              "      <td>1932</td>\n",
              "      <td>47</td>\n",
              "      <td>\"Wallace Beery\"</td>\n",
              "      <td>\"The Champ\"</td>\n",
              "      <td>NaN</td>\n",
              "    </tr>\n",
              "  </tbody>\n",
              "</table>\n",
              "</div>"
            ],
            "text/plain": [
              "   Index   \"Year\"  ...              \"Name\"                 \"Movie\"\n",
              "1   1928       44  ...   \"The Last Command   The Way of All Flesh\"\n",
              "2   1929       41  ...    \"In Old Arizona\"                     NaN\n",
              "3   1930       62  ...          \"Disraeli\"                     NaN\n",
              "4   1931       53  ...       \"A Free Soul\"                     NaN\n",
              "5   1932       47  ...         \"The Champ\"                     NaN\n",
              "\n",
              "[5 rows x 5 columns]"
            ]
          },
          "metadata": {
            "tags": []
          },
          "execution_count": 5
        }
      ]
    },
    {
      "cell_type": "code",
      "metadata": {
        "id": "R2A61vhBKLbK",
        "colab_type": "code",
        "colab": {}
      },
      "source": [
        "a=int(input('Enter which row number you want to display : '))\n",
        "b=int(input('Enter which row number you want to display : '))\n",
        "x.RowSelect(a-1,b-1)"
      ],
      "execution_count": null,
      "outputs": []
    },
    {
      "cell_type": "markdown",
      "metadata": {
        "id": "pP0reAQOKsI3",
        "colab_type": "text"
      },
      "source": [
        "Q3: Create a sub class of DataRead1 as  DataRead2  that has function for correlation plots (using any lib for correlation plot)"
      ]
    },
    {
      "cell_type": "code",
      "metadata": {
        "id": "3bIF1dq1Ml7p",
        "colab_type": "code",
        "colab": {}
      },
      "source": [
        "class DataRead2(DataRead):\n",
        "  def __init__(self,read_file):\n",
        "    DataRead.__init__(DataRead,read_file)\n",
        "\n",
        "  def corr_plot(self):\n",
        "    df2=self.df1\n",
        "    correlation=df2.corr()\n",
        "    sns.heatmap(correlation)\n",
        "    plt.show()\n",
        "\n",
        "  def RowSelect(self,a,b,c):\n",
        "    print(self.df1.iloc[[a,b,c]])"
      ],
      "execution_count": null,
      "outputs": []
    },
    {
      "cell_type": "code",
      "metadata": {
        "id": "rSI9CSjGKvcp",
        "colab_type": "code",
        "colab": {}
      },
      "source": [
        "x2 = DataRead2(df)\n",
        "x2.corr_plot()"
      ],
      "execution_count": null,
      "outputs": []
    },
    {
      "cell_type": "markdown",
      "metadata": {
        "id": "M_xIGd9LK32F",
        "colab_type": "text"
      },
      "source": [
        "Q4: Within DataRead2 also create a function to override the custom function of DataRead1 RowSelect to select 3 rows"
      ]
    },
    {
      "cell_type": "code",
      "metadata": {
        "id": "2k4-frqLK_GR",
        "colab_type": "code",
        "colab": {}
      },
      "source": [
        "a=int(input('Enter which row number you want to display : '))\n",
        "b=int(input('Enter which row number you want to display : '))\n",
        "c=int(input('Enter which row number you want to display : '))\n",
        "x2.RowSelect(a-1,b-1,c-1)"
      ],
      "execution_count": null,
      "outputs": []
    }
  ]
}