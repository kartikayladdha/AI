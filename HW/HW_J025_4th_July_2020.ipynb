{
  "nbformat": 4,
  "nbformat_minor": 0,
  "metadata": {
    "colab": {
      "name": "HW_J025_4th July 2020.ipynb",
      "provenance": [],
      "authorship_tag": "ABX9TyMrGi11hZlOv+AhbLwHsotI",
      "include_colab_link": true
    },
    "kernelspec": {
      "name": "python3",
      "display_name": "Python 3"
    }
  },
  "cells": [
    {
      "cell_type": "markdown",
      "metadata": {
        "id": "view-in-github",
        "colab_type": "text"
      },
      "source": [
        "<a href=\"https://colab.research.google.com/github/kartikayladdha/AI/blob/master/HW/HW_J025_4th_July_2020.ipynb\" target=\"_parent\"><img src=\"https://colab.research.google.com/assets/colab-badge.svg\" alt=\"Open In Colab\"/></a>"
      ]
    },
    {
      "cell_type": "markdown",
      "metadata": {
        "id": "UZuHTuMXL06R",
        "colab_type": "text"
      },
      "source": [
        "**HackerRank Solutions for 4th July'20 Assignment**"
      ]
    },
    {
      "cell_type": "markdown",
      "metadata": {
        "id": "ivF2P2ecMMIC",
        "colab_type": "text"
      },
      "source": [
        "1.  If-Else"
      ]
    },
    {
      "cell_type": "code",
      "metadata": {
        "id": "r3DRqHE1LjJ8",
        "colab_type": "code",
        "colab": {}
      },
      "source": [
        "n = int(input())\n",
        "if n % 2 == 1:\n",
        "    print(\"Weird\")\n",
        "elif n % 2 == 0 and 2 <= n <= 5:\n",
        "    print(\"Not Weird\")\n",
        "elif n % 2 == 0 and 6 <= n <= 20:\n",
        "    print(\"Weird\")\n",
        "else:\n",
        "    print(\"Not Weird\")"
      ],
      "execution_count": null,
      "outputs": []
    },
    {
      "cell_type": "markdown",
      "metadata": {
        "id": "ufvQ3D_vMjtr",
        "colab_type": "text"
      },
      "source": [
        "2.   Arithmetic Operators"
      ]
    },
    {
      "cell_type": "code",
      "metadata": {
        "id": "JHI7Mqe0Miw9",
        "colab_type": "code",
        "colab": {}
      },
      "source": [
        "a = int(input())\n",
        "b = int(input())\n",
        "\n",
        "print(a + b)\n",
        "print(a - b) \n",
        "print(a * b)"
      ],
      "execution_count": null,
      "outputs": []
    },
    {
      "cell_type": "markdown",
      "metadata": {
        "id": "8HaQFYy9Tc9X",
        "colab_type": "text"
      },
      "source": [
        "3.   Python : Division"
      ]
    },
    {
      "cell_type": "code",
      "metadata": {
        "id": "urfnWpqRTpQs",
        "colab_type": "code",
        "colab": {}
      },
      "source": [
        "a = int(input())\n",
        "b = int(input())\n",
        "print(a//b)\n",
        "print(float(a/b))"
      ],
      "execution_count": null,
      "outputs": []
    },
    {
      "cell_type": "markdown",
      "metadata": {
        "id": "BqD0UQg0UwjE",
        "colab_type": "text"
      },
      "source": [
        "4.   Loops"
      ]
    },
    {
      "cell_type": "code",
      "metadata": {
        "id": "Tcy5597LU5fR",
        "colab_type": "code",
        "colab": {}
      },
      "source": [
        "N = int(input())\n",
        "for i in range(N):\n",
        "    print(i**2)"
      ],
      "execution_count": null,
      "outputs": []
    },
    {
      "cell_type": "markdown",
      "metadata": {
        "id": "uIB1qluRVNL1",
        "colab_type": "text"
      },
      "source": [
        "5. Print Fucntion"
      ]
    },
    {
      "cell_type": "code",
      "metadata": {
        "id": "tYaAb_YaVStN",
        "colab_type": "code",
        "colab": {}
      },
      "source": [
        "n = int(input())\n",
        "for i in range(1,n+1):\n",
        "    print(i, end = \"\")"
      ],
      "execution_count": null,
      "outputs": []
    },
    {
      "cell_type": "markdown",
      "metadata": {
        "id": "B4SgYVJdVfZt",
        "colab_type": "text"
      },
      "source": [
        "6. List Comprehensions"
      ]
    },
    {
      "cell_type": "code",
      "metadata": {
        "id": "1oudoJ49VpfL",
        "colab_type": "code",
        "colab": {}
      },
      "source": [
        "x = int(input())\n",
        "y = int(input())\n",
        "z = int(input())\n",
        "n = int(input())\n",
        "l=list()\n",
        "for i in range(x+1):\n",
        "    for j in range(y+1):\n",
        "        for k in range(z+1):\n",
        "            if(i+j+k!=n):\n",
        "                l.append([i,j,k])\n",
        "print(l)"
      ],
      "execution_count": null,
      "outputs": []
    }
  ]
}