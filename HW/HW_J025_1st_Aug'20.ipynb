{
  "nbformat": 4,
  "nbformat_minor": 0,
  "metadata": {
    "colab": {
      "name": "HW_J025_1st. Aug'20.ipynb",
      "provenance": [],
      "collapsed_sections": [],
      "authorship_tag": "ABX9TyPukVJQx8FI6LGEp77/Ov99",
      "include_colab_link": true
    },
    "kernelspec": {
      "name": "python3",
      "display_name": "Python 3"
    }
  },
  "cells": [
    {
      "cell_type": "markdown",
      "metadata": {
        "id": "view-in-github",
        "colab_type": "text"
      },
      "source": [
        "<a href=\"https://colab.research.google.com/github/kartikayladdha/AI/blob/master/HW/HW_J025_1st_Aug'20.ipynb\" target=\"_parent\"><img src=\"https://colab.research.google.com/assets/colab-badge.svg\" alt=\"Open In Colab\"/></a>"
      ]
    },
    {
      "cell_type": "markdown",
      "metadata": {
        "id": "m3DNJVwrrEnO",
        "colab_type": "text"
      },
      "source": [
        "Q1 - https://www.hackerrank.com/challenges/validating-postalcode/problem"
      ]
    },
    {
      "cell_type": "code",
      "metadata": {
        "id": "ULwzO-xlrPQ2",
        "colab_type": "code",
        "colab": {}
      },
      "source": [
        "regex_integer_in_range = r\"^[1-9]\\d{5}$\"    # Do not delete 'r'.\n",
        "regex_alternating_repetitive_digit_pair = r\"(.)(?=.\\1)\"    # Do not delete 'r'.\n",
        "\n",
        "import re\n",
        "P = input()\n",
        "\n",
        "print (bool(re.match(regex_integer_in_range, P)) \n",
        "and len(re.findall(regex_alternating_repetitive_digit_pair, P)) < 2)"
      ],
      "execution_count": null,
      "outputs": []
    },
    {
      "cell_type": "markdown",
      "metadata": {
        "id": "7Y4nVaN8rP6x",
        "colab_type": "text"
      },
      "source": [
        "Q2 - https://www.hackerrank.com/challenges/coin-change/problem"
      ]
    },
    {
      "cell_type": "code",
      "metadata": {
        "id": "CniAFxAVrU6R",
        "colab_type": "code",
        "colab": {}
      },
      "source": [
        ""
      ],
      "execution_count": null,
      "outputs": []
    },
    {
      "cell_type": "markdown",
      "metadata": {
        "id": "Yk310-cPrVt3",
        "colab_type": "text"
      },
      "source": [
        "Q3 - https://www.hackerrank.com/challenges/sherlock-and-cost/problem"
      ]
    },
    {
      "cell_type": "code",
      "metadata": {
        "id": "RPQ8nxhYrZqC",
        "colab_type": "code",
        "colab": {}
      },
      "source": [
        ""
      ],
      "execution_count": null,
      "outputs": []
    }
  ]
}