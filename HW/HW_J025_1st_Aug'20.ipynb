{
  "nbformat": 4,
  "nbformat_minor": 0,
  "metadata": {
    "colab": {
      "name": "HW_J025_1st. Aug'20.ipynb",
      "provenance": [],
      "collapsed_sections": [],
      "authorship_tag": "ABX9TyMBVhiGNmJriOPMduOQlqAm",
      "include_colab_link": true
    },
    "kernelspec": {
      "name": "python3",
      "display_name": "Python 3"
    }
  },
  "cells": [
    {
      "cell_type": "markdown",
      "metadata": {
        "id": "view-in-github",
        "colab_type": "text"
      },
      "source": [
        "<a href=\"https://colab.research.google.com/github/kartikayladdha/AI/blob/master/HW/HW_J025_1st_Aug'20.ipynb\" target=\"_parent\"><img src=\"https://colab.research.google.com/assets/colab-badge.svg\" alt=\"Open In Colab\"/></a>"
      ]
    },
    {
      "cell_type": "markdown",
      "metadata": {
        "id": "m3DNJVwrrEnO",
        "colab_type": "text"
      },
      "source": [
        "**VALIDATING POSTAL CODES**\n",
        "\n",
        "Q1 - https://www.hackerrank.com/challenges/validating-postalcode/problem"
      ]
    },
    {
      "cell_type": "code",
      "metadata": {
        "id": "ULwzO-xlrPQ2",
        "colab_type": "code",
        "colab": {
          "base_uri": "https://localhost:8080/",
          "height": 51
        },
        "outputId": "a070621b-23a3-4dac-ddc3-d4e3f73a9f9d"
      },
      "source": [
        "regex_integer_in_range = r\"^[1-9]\\d{5}$\"    # Do not delete 'r'.\n",
        "regex_alternating_repetitive_digit_pair = r\"(.)(?=.\\1)\"    # Do not delete 'r'.\n",
        "\n",
        "import re\n",
        "P = input()\n",
        "\n",
        "print (bool(re.match(regex_integer_in_range, P)) \n",
        "and len(re.findall(regex_alternating_repetitive_digit_pair, P)) < 2)"
      ],
      "execution_count": 7,
      "outputs": [
        {
          "output_type": "stream",
          "text": [
            "121426\n",
            "True\n"
          ],
          "name": "stdout"
        }
      ]
    },
    {
      "cell_type": "code",
      "metadata": {
        "id": "l8RbIGq6O9ks",
        "colab_type": "code",
        "colab": {
          "base_uri": "https://localhost:8080/",
          "height": 51
        },
        "outputId": "06b29f98-ca29-4682-ffce-7175e794211d"
      },
      "source": [
        "regex_integer_in_range = r\"^[1-9]\\d{5}$\"    # Do not delete 'r'.\n",
        "regex_alternating_repetitive_digit_pair = r\"(.)(?=.\\1)\"    # Do not delete 'r'.\n",
        "\n",
        "import re\n",
        "P = input()\n",
        "\n",
        "print (bool(re.match(regex_integer_in_range, P)) \n",
        "and len(re.findall(regex_alternating_repetitive_digit_pair, P)) < 2)"
      ],
      "execution_count": 8,
      "outputs": [
        {
          "output_type": "stream",
          "text": [
            "552523\n",
            "False\n"
          ],
          "name": "stdout"
        }
      ]
    },
    {
      "cell_type": "markdown",
      "metadata": {
        "id": "7Y4nVaN8rP6x",
        "colab_type": "text"
      },
      "source": [
        "**THE COIN CHANGE PROBLEM**\n",
        "\n",
        "Q2 - https://www.hackerrank.com/challenges/coin-change/problem"
      ]
    },
    {
      "cell_type": "code",
      "metadata": {
        "id": "CniAFxAVrU6R",
        "colab_type": "code",
        "colab": {}
      },
      "source": [
        "#!/bin/python3\n",
        "\n",
        "import math\n",
        "import os\n",
        "import random\n",
        "import re\n",
        "import sys\n",
        "\n",
        "a = input() # the first number is the ne whose change we have to find the second is the integer size\n",
        "b = input() #the array of integers\n",
        "\n",
        "c = int(a.split()[0]) #picks the first number from a, the ones whose change we have to find out\n",
        "d = [int(x) for x in b.split()] #splits the numbers from b in to a list\n",
        "\n",
        "d.sort() #sorts in ascending order\n",
        "\n",
        "e = list(range(c + 1)) #creates a list till the c, eg: if c = 4, e will be [0, 1, 2, 3, 4]\n",
        "f = len(d) #the length of the array/list of integers\n",
        "\n",
        "h = [([1] * (c +1)) for row in range(f)] #creates multiple lists to compare the combinations\n",
        "\n",
        "for i in range(c+1):\n",
        "  if e[i] % d[0] != 0: h[0][i] = 0\n",
        "\n",
        "#checks the number of possible combinations \n",
        "for i in range(1, f):\n",
        "  for j in range(1, c + 1):\n",
        "    if e[j] < d[i]:\n",
        "      h[i][j] = h[i - 1][j]\n",
        "    else:\n",
        "      h[i][j] = h[i - 1][j] + h[i][j - d[i]]\n",
        "\n",
        "print(h[f - 1][c]) #prints the possible no of combinations on how the change can be added"
      ],
      "execution_count": null,
      "outputs": []
    },
    {
      "cell_type": "code",
      "metadata": {
        "id": "-q1OhawMJYkY",
        "colab_type": "code",
        "colab": {}
      },
      "source": [
        "#for inputs a = 4 3 , b = 1 2 3\n",
        "# h becomes a a list of [[1, 1, 1, 1, 1], [1, 1, 1, 1, 1], [1, 1, 1, 1, 1]]\n",
        "# and after running in the for loops the values change by swaping them with the values in d(the sorted list)"
      ],
      "execution_count": null,
      "outputs": []
    },
    {
      "cell_type": "markdown",
      "metadata": {
        "id": "Yk310-cPrVt3",
        "colab_type": "text"
      },
      "source": [
        "**SHERLOCK AND COST**\n",
        "\n",
        "Q3 - https://www.hackerrank.com/challenges/sherlock-and-cost/problem"
      ]
    },
    {
      "cell_type": "code",
      "metadata": {
        "id": "RPQ8nxhYrZqC",
        "colab_type": "code",
        "colab": {}
      },
      "source": [
        "#!/bin/python3\n",
        "\n",
        "import math\n",
        "import os\n",
        "import random\n",
        "import re\n",
        "import sys\n",
        "\n",
        "a = int(input()) \n",
        "\n",
        "\"\"\"\n",
        "The first line contains the integer , the number of test cases.\n",
        "Each of the next  pairs of lines is a test case where:\n",
        "- The first line contains an integer , the length of \n",
        "- The next line contains  space-separated integers \n",
        "\"\"\"\n",
        "\n",
        "for i in range(a): #makes a range till the second input line\n",
        "    b = int(input()) # accepts the inputs which are split by space\n",
        "    c = [int(x) for x in input().strip().split()] #creates a list of the inputs\n",
        "    d = [0]*(b) #create a list of zeros the size of b\n",
        "    e = [0]*(b) #create a list of zeros the size of b\n",
        "    d[0] = 0\n",
        "    e[0] = 0\n",
        "    for j in range(1,b):\n",
        "        d[j] = max(abs(1-1)+d[j-1],abs(1-c[j-1])+e[j-1]) #return the maximimum value after subtracting the values from the next input for odd terms\n",
        "        e[j] = max(abs(c[j]-1)+d[j-1],abs(c[j]-c[j-1])+e[j-1]) #return the maximimum value after subtracting the values from the next input for even terms\n",
        "    print(max(e[b-1],d[b-1]))"
      ],
      "execution_count": null,
      "outputs": []
    },
    {
      "cell_type": "code",
      "metadata": {
        "id": "nyPHtQcOS5qB",
        "colab_type": "code",
        "colab": {}
      },
      "source": [
        "# input a\n",
        "# line 1 = 1\n",
        "#line 2 = 5\n",
        "# i in range(5)"
      ],
      "execution_count": null,
      "outputs": []
    }
  ]
}